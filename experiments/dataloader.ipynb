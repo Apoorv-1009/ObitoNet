{
 "cells": [
  {
   "cell_type": "markdown",
   "metadata": {},
   "source": [
    "# Dataloader experiments"
   ]
  },
  {
   "cell_type": "code",
   "execution_count": 3,
   "metadata": {},
   "outputs": [
    {
     "name": "stdout",
     "output_type": "stream",
     "text": [
      "Jupyter environment detected. Enabling Open3D WebVisualizer.\n",
      "[Open3D INFO] WebRTC GUI backend enabled.\n",
      "[Open3D INFO] WebRTCWindowSystem: HTTP handshake server disabled.\n"
     ]
    },
    {
     "name": "stderr",
     "output_type": "stream",
     "text": [
      "/home/vinaylanka/miniconda3/envs/obitonet/lib/python3.10/site-packages/torch/utils/cpp_extension.py:1964: UserWarning: TORCH_CUDA_ARCH_LIST is not set, all archs for visible cards are included for compilation. \n",
      "If this is not desired, please set os.environ['TORCH_CUDA_ARCH_LIST'].\n",
      "  warnings.warn(\n"
     ]
    }
   ],
   "source": [
    "import open3d as o3d\n",
    "import numpy as np\n",
    "import matplotlib.pyplot as plt\n",
    "\n",
    "from pointnet2_ops import pointnet2_utils\n",
    "from knn_cuda import KNN"
   ]
  },
  {
   "cell_type": "markdown",
   "metadata": {},
   "source": [
    "## 3D PCD: Importing, Downsampling and Saving as numpy arrays"
   ]
  },
  {
   "cell_type": "code",
   "execution_count": 17,
   "metadata": {},
   "outputs": [
    {
     "name": "stdout",
     "output_type": "stream",
     "text": [
      "Loading Open3D point cloud\n",
      "PCD Details:\n",
      "PointCloud with 3305027 points.\n",
      "Every 100th points are selected, could use voxel or uniform downsampling\n",
      "(33051, 3)\n"
     ]
    }
   ],
   "source": [
    "print(\"Loading Open3D point cloud\")\n",
    "path = \"../dataset/Dataset/Barn_is/Barn/Barn02.ply\"\n",
    "pcd = o3d.io.read_point_cloud(path)\n",
    "print(\"PCD Details:\")\n",
    "print(pcd)\n",
    "\n",
    "# Link: https://www.open3d.org/docs/latest/tutorial/Advanced/pointcloud_outlier_removal.html\n",
    "print(\"Every 100th points are selected, could use voxel or uniform downsampling\")\n",
    "# down_pcd = pcd.voxel_down_sample(voxel_size=0.02)\n",
    "down_pcd = pcd.uniform_down_sample(every_k_points=100)\n",
    "\n",
    "#Link: https://www.open3d.org/html/tutorial/Basic/working_with_numpy.html\n",
    "np_pcd = np.asarray(down_pcd.points)\n",
    "print(np_pcd.shape)\n",
    "\n",
    "#Visualise PCD\n",
    "o3d.visualization.draw_geometries([down_pcd])\n"
   ]
  },
  {
   "cell_type": "code",
   "execution_count": null,
   "metadata": {},
   "outputs": [],
   "source": []
  }
 ],
 "metadata": {
  "kernelspec": {
   "display_name": "obitonet",
   "language": "python",
   "name": "python3"
  },
  "language_info": {
   "codemirror_mode": {
    "name": "ipython",
    "version": 3
   },
   "file_extension": ".py",
   "mimetype": "text/x-python",
   "name": "python",
   "nbconvert_exporter": "python",
   "pygments_lexer": "ipython3",
   "version": "3.10.15"
  }
 },
 "nbformat": 4,
 "nbformat_minor": 2
}
