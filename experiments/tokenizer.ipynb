{
 "cells": [
  {
   "cell_type": "code",
   "execution_count": 7,
   "metadata": {},
   "outputs": [],
   "source": [
    "import open3d as o3d\n",
    "import numpy as np\n",
    "import matplotlib.pyplot as plt\n",
    "import torch\n",
    "import torch.nn as nn\n",
    "import torch.nn.functional as F\n",
    "from pointnet2_ops import pointnet2_utils\n",
    "from knn_cuda import KNN"
   ]
  },
  {
   "cell_type": "code",
   "execution_count": 8,
   "metadata": {},
   "outputs": [
    {
     "name": "stdout",
     "output_type": "stream",
     "text": [
      "Load a ply point cloud, print it, and render it\n",
      "PointCloud with 1642571 points.\n"
     ]
    }
   ],
   "source": [
    "print(\"Load a ply point cloud, print it, and render it\")\n",
    "path = \"../dataset/Dataset/Barn_is/Barn/Barn01.ply\"\n",
    "pcd = o3d.io.read_point_cloud(path)\n",
    "print(pcd)\n",
    "\n",
    "voxel_grid = o3d.geometry.VoxelGrid.create_from_point_cloud(pcd,\n",
    "                                                        voxel_size=0.5)\n",
    "voxels = voxel_grid.get_voxels()  # returns list of voxels\n",
    "indices = np.stack(list(vx.grid_index for vx in voxels))\n",
    "colors = np.stack(list(vx.color for vx in voxels))\n",
    "# print(indices[0:10])\n",
    "# print(voxel_grid)\n",
    "o3d.visualization.draw_geometries([voxel_grid])\n",
    "\n",
    "voxel_grid = o3d.geometry.VoxelGrid.create_from_point_cloud(pcd,\n",
    "                                                    voxel_size=0.2)\n",
    "voxels = voxel_grid.get_voxels()  # returns list of voxels\n",
    "indices = np.stack(list(vx.grid_index for vx in voxels))\n",
    "colors = np.stack(list(vx.color for vx in voxels))\n",
    "# print(indices[0:10])\n",
    "# print(voxel_grid)\n",
    "o3d.visualization.draw_geometries([voxel_grid])\n"
   ]
  },
  {
   "cell_type": "code",
   "execution_count": 9,
   "metadata": {},
   "outputs": [],
   "source": [
    "class Tokenizer (nn.Module):\n",
    "    def __init__(self, num_group, group_size):\n",
    "        super().__init__()\n",
    "        self.num_group = num_group\n",
    "        self.group_size = group_size\n",
    "        self.knn = KNN(k=self.group_size, transpose_mode=True)\n",
    "\n",
    "    def forward(self, xyz):\n",
    "            '''\n",
    "                input: B N 3\n",
    "                ---------------------------\n",
    "                output: B G M 3\n",
    "                center : B G 3\n",
    "            '''\n",
    "            batch_size, num_points, _ = xyz.shape\n",
    "            # fps the centers out\n",
    "            center = self.fps(xyz, self.num_group) # B G 3\n",
    "            # knn to get the neighborhood\n",
    "            _, idx = self.knn(xyz, center) # B G M\n",
    "            assert idx.size(1) == self.num_group\n",
    "            assert idx.size(2) == self.group_size\n",
    "            idx_base = torch.arange(0, batch_size, device=xyz.device).view(-1, 1, 1) * num_points\n",
    "            idx = idx + idx_base\n",
    "            idx = idx.view(-1)\n",
    "            neighborhood = xyz.view(batch_size * num_points, -1)[idx, :]\n",
    "            neighborhood = neighborhood.view(batch_size, self.num_group, self.group_size, 3).contiguous()\n",
    "            # normalize\n",
    "            neighborhood = neighborhood - center.unsqueeze(2)\n",
    "            return neighborhood, center\n",
    "    \n",
    "    def fps(data, number):\n",
    "        '''\n",
    "            data B N 3\n",
    "            number int\n",
    "        '''\n",
    "        fps_idx = pointnet2_utils.furthest_point_sample(data, number) \n",
    "        fps_data = pointnet2_utils.gather_operation(data.transpose(1, 2).contiguous(), fps_idx).transpose(1,2).contiguous()\n",
    "        return fps_data"
   ]
  },
  {
   "cell_type": "code",
   "execution_count": 10,
   "metadata": {},
   "outputs": [],
   "source": [
    "tokenizer = Tokenizer(32,64)"
   ]
  },
  {
   "cell_type": "code",
   "execution_count": null,
   "metadata": {},
   "outputs": [],
   "source": [
    "tokenizer.forward()"
   ]
  }
 ],
 "metadata": {
  "kernelspec": {
   "display_name": "obitonet",
   "language": "python",
   "name": "python3"
  },
  "language_info": {
   "codemirror_mode": {
    "name": "ipython",
    "version": 3
   },
   "file_extension": ".py",
   "mimetype": "text/x-python",
   "name": "python",
   "nbconvert_exporter": "python",
   "pygments_lexer": "ipython3",
   "version": "3.10.15"
  }
 },
 "nbformat": 4,
 "nbformat_minor": 2
}
